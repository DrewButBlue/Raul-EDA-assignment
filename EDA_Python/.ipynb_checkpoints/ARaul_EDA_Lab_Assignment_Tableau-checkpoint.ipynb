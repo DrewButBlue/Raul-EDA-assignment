{
 "cells": [
  {
   "cell_type": "markdown",
   "id": "7688703b",
   "metadata": {},
   "source": [
    "# 1. loading data in to Tableau\n",
    "    "
   ]
  },
  {
   "cell_type": "markdown",
   "id": "5584ecc2",
   "metadata": {},
   "source": [
    "-loaded the ames.csv file as a text file in Tableau"
   ]
  },
  {
   "cell_type": "markdown",
   "id": "ff561659",
   "metadata": {},
   "source": [
    "-found that there are 1460 rows and 81 fields, in python there were only 80 columns but I think thats because you dropped the ID field so when Pandas created another one, there was not a duplicate "
   ]
  },
  {
   "cell_type": "markdown",
   "id": "d1a0e747",
   "metadata": {},
   "source": [
    "-the fields seem to be given appropriate types as well"
   ]
  },
  {
   "cell_type": "markdown",
   "id": "b08837cd",
   "metadata": {},
   "source": [
    "# 2. explore data distributions"
   ]
  },
  {
   "cell_type": "markdown",
   "id": "75bbf294",
   "metadata": {},
   "source": [
    "-histogram for sale price made in the sheet called \"sale prices\" in the Tableau workbook\n",
    "\n",
    "Mean: 180,921\n",
    "\n",
    "Median: 163,000\n",
    "\n",
    "Standard Deviation: 79,443\n",
    "\n",
    "There is a normal distribution of the data where most houses are\n",
    "clustered around the median value but the more expensive\n",
    "homes are dragging the mean up"
   ]
  },
  {
   "cell_type": "markdown",
   "id": "9488df69",
   "metadata": {},
   "source": [
    "-histogram for distribution of Total Rooms Above Grade made on the Tableau file on the sheet called \"TotRmsAbvGrd\"\n",
    "\n",
    "Mean: 6.518\n",
    "\n",
    "Median: 6\n",
    "\n",
    "Standard Deviation: 1.625\n",
    "\n",
    "The data seems to follow a normal distribution with a mean and median around 6 rooms, however there are some homes with a lot of rooms that are going to raise the mean a little bit"
   ]
  },
  {
   "cell_type": "markdown",
   "id": "a4f2ea55",
   "metadata": {},
   "source": [
    "-histogram for Distribution of Overall Condition of Houses is on the Tableau file on the sheet called \"OverallCondition\"\n",
    "\n",
    "Mean: 5.575\n",
    "\n",
    "Median: 5\n",
    "\n",
    "Standard Deviation: 1.113\n",
    "\n",
    "The data seems to be heavily weighted on 5 and above which would idicate that most houses are in an above average condition. There are very few homes that are below 4."
   ]
  },
  {
   "cell_type": "markdown",
   "id": "f27885e6",
   "metadata": {},
   "source": [
    "# 3. Explore Differences between Subsets"
   ]
  },
  {
   "cell_type": "markdown",
   "id": "be6d396d",
   "metadata": {},
   "source": [
    "The Graph is in the Tableau Workbook on the sheet called \"SalePriceVsCondition\"\n",
    "\n",
    "From the graph we can see that the amount of houses in average condition (blue) is greater than the amount in above average condition (green) for each price range, which is what we would expect to see with an average. However we see that there is a very small amount of houses that are in below average condition (red), and none in below average condition when the price moves above 400k.\n",
    "\n",
    "The relationship between overall condition and sales price seems to not have a very strong correlation, most of the below average houses are below the average price, however most of the price ranges have a similar ratio of average to above average condition houses.\n",
    "\n",
    "It is surprising to see that even at the highest prices of houses that were sold, most were still in average conditon rather than above average. This could suggest that the size of the houses sold are a larger factor in determining the price rather than the condition the house is in."
   ]
  },
  {
   "cell_type": "markdown",
   "id": "cbc2ad74",
   "metadata": {},
   "source": [
    "# 4. Explore Correlations"
   ]
  },
  {
   "cell_type": "markdown",
   "id": "774b1a3c",
   "metadata": {},
   "source": [
    "(calculated on sheet \"correlations\")\n",
    "Most Positively Correlated Column to Sales Price: OverallQual\n",
    "Maximum Correlation Value: 0.7910\n",
    "\n",
    "(calculated on sheet \"correlations\")\n",
    "Most Negatively Correlated Column to Sales Price: KitchenAbvGr\n",
    "Minimum Correlation Value: -0.1359\n",
    "\n",
    "The Plots of the two are put together on the dashboard called \"High/LowCorrelations\" in the Tableau File"
   ]
  },
  {
   "cell_type": "markdown",
   "id": "e8934ad9",
   "metadata": {},
   "source": [
    "The column with the highest positive correlation is overall quality which rates the overall material and finish of the house. The positive correlation is clear in the data, however there are so many observations that have a wide spread within each quality rating that the trend almost looks exponential.\n",
    "\n",
    "The column with the lowest negative correlation is the number of \n",
    "kitchens above ground. There is a vast majority of the houses that have only 1 kitchen, while there is also a large number that have 2 kitchens. There are a few houses with either 0 or 3 kitchens but not many.\n",
    "\n",
    "It is surprising that we see the houses that have more kitchens have a much smaller range of prices but that range is all much lower than a lot of the single kitchen houses. This may be influenced by the age and location of the homes that have space for multiple kitchens."
   ]
  },
  {
   "cell_type": "markdown",
   "id": "d2e6f810",
   "metadata": {},
   "source": [
    "# 5. Engineer and Explore a New Feature"
   ]
  },
  {
   "cell_type": "markdown",
   "id": "f401d10b",
   "metadata": {},
   "source": [
    "(On the final Tableau sheet called \"AgeVsPrice\")\n",
    "\n",
    "It seems as though the newer a house is, the higher the sale price was with a small handful of houses being very old and still selling for a lot, and this appears to be the case after homes were 70 years old when sold. We can see that the clustering is much less compact meaning that the variance is higher in the older house prices. It is interesting to note that there are a few times where there was less houses being sold."
   ]
  },
  {
   "cell_type": "code",
   "execution_count": null,
   "id": "f0a315a4",
   "metadata": {},
   "outputs": [],
   "source": []
  }
 ],
 "metadata": {
  "kernelspec": {
   "display_name": "Python 3 (ipykernel)",
   "language": "python",
   "name": "python3"
  },
  "language_info": {
   "codemirror_mode": {
    "name": "ipython",
    "version": 3
   },
   "file_extension": ".py",
   "mimetype": "text/x-python",
   "name": "python",
   "nbconvert_exporter": "python",
   "pygments_lexer": "ipython3",
   "version": "3.9.13"
  }
 },
 "nbformat": 4,
 "nbformat_minor": 5
}
